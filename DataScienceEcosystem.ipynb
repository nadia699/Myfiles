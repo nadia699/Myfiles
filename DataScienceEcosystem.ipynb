{
 "cells": [
  {
   "cell_type": "markdown",
   "id": "afa86959-9cd3-49f6-840b-4aec051c8b28",
   "metadata": {},
   "source": [
    "# Data Science Tools and Ecosystem"
   ]
  },
  {
   "cell_type": "markdown",
   "id": "279dbd62-e230-437b-bbcd-882df01e0918",
   "metadata": {},
   "source": [
    "In this notebook, Data Science Tools and Ecosystem are summarized."
   ]
  },
  {
   "cell_type": "markdown",
   "id": "8dda855f-cb0c-4862-a7eb-5cbb37ecd428",
   "metadata": {},
   "source": [
    "Some of the popular languages that Data Scientists use are:\n",
    "1. R\n",
    "2. Python\n",
    "3. juia\n",
    "4. sql\n",
    "\n"
   ]
  },
  {
   "cell_type": "markdown",
   "id": "69475ecd-0d4d-4ae4-8a2e-3a1beab18ebc",
   "metadata": {},
   "source": [
    "Some of the commonly used libraries used by Data Scientists include:\n",
    "1. panda\n",
    "2. matplotlib\n",
    "3. tensorflow"
   ]
  },
  {
   "cell_type": "markdown",
   "id": "2fe2f789-14f7-4eaa-b3fd-1cc1a553b3a8",
   "metadata": {},
   "source": [
    "Create a markdown cell with a table of Data Science tools\n",
    "| Data Science Tools       |\n",
    "|--------------------------|\n",
    "| Jupyter Notebook         |\n",
    "| RStudio                  |\n",
    "| Apache Zeppelin          |"
   ]
  },
  {
   "cell_type": "markdown",
   "id": "71d50bd9-a507-462f-aef7-9e6ea82b077d",
   "metadata": {},
   "source": [
    "### Below are a few examples of evaluating arithmetic expressions in Python."
   ]
  },
  {
   "cell_type": "code",
   "execution_count": 1,
   "id": "6a898a22-e8af-4164-ab81-93d2c27f3909",
   "metadata": {},
   "outputs": [
    {
     "data": {
      "text/plain": [
       "17"
      ]
     },
     "execution_count": 1,
     "metadata": {},
     "output_type": "execute_result"
    }
   ],
   "source": [
    "# This a simple arithmetic expression to mutiply then add integers\n",
    "(3*4)+5"
   ]
  },
  {
   "cell_type": "code",
   "execution_count": 2,
   "id": "74e488ab-c7b7-4ca7-98cd-06c4ae278940",
   "metadata": {},
   "outputs": [
    {
     "data": {
      "text/plain": [
       "3.3333333333333335"
      ]
     },
     "execution_count": 2,
     "metadata": {},
     "output_type": "execute_result"
    }
   ],
   "source": [
    "# This will convert 200 minutes to hours by diving by 60.\n",
    "200/60\n"
   ]
  },
  {
   "cell_type": "markdown",
   "id": "4257a424-12da-463c-b775-3415680c4836",
   "metadata": {},
   "source": [
    "### Objectives:\n",
    "#### Some of the commonly used libraries used by Data Scientists include:\n",
    "\n",
    "- **NumPy** – For numerical computing and handling multi-dimensional arrays.\n",
    "- **pandas** – For data manipulation and analysis, especially tabular data.\n",
    "- **Matplotlib** – For data visualization and plotting.\n",
    "- **scikit-learn** – For machine learning algorithms and data preprocessing.\n",
    "- **TensorFlow** – For building and training deep learning models."
   ]
  },
  {
   "cell_type": "markdown",
   "id": "45c49fdb-57ec-4194-ac02-028f7fb7d642",
   "metadata": {},
   "source": [
    "## Nadia"
   ]
  },
  {
   "cell_type": "code",
   "execution_count": null,
   "id": "c8df8c09-89b8-44e6-8301-ef1ed5fdd15c",
   "metadata": {},
   "outputs": [],
   "source": []
  }
 ],
 "metadata": {
  "kernelspec": {
   "display_name": "Python 3 (ipykernel)",
   "language": "python",
   "name": "python3"
  },
  "language_info": {
   "codemirror_mode": {
    "name": "ipython",
    "version": 3
   },
   "file_extension": ".py",
   "mimetype": "text/x-python",
   "name": "python",
   "nbconvert_exporter": "python",
   "pygments_lexer": "ipython3",
   "version": "3.12.8"
  }
 },
 "nbformat": 4,
 "nbformat_minor": 5
}
